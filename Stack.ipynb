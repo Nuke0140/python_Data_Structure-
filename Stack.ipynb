{
 "cells": [
  {
   "cell_type": "markdown",
   "id": "463b6274",
   "metadata": {},
   "source": [
    "## Stack \n",
    "----\n",
    " - this is main idea of stack , the data strucutre stack is very similer to physical stack that you most likely be famililar with the stack data strucutre aLLOWS us to place any programming artifact , variable or object \n",
    " \n",
    " ----\n",
    " #### stack opearation \n",
    " ---\n",
    " ###### push \n",
    " - the opearation to insert element in stack is called push \n",
    "- we push element onto a stack. we insert elements onto stack and the last element tobe pushed is the ew top of the stack \n",
    "----\n",
    " ###### pop \n",
    " - this implies that when we remove an element an element from the stack , the stack follows the first-in-last  out property \n",
    " - this means that the top element thelast to be insert is remove when we perform the pop opeartion \n",
    " ----\n",
    " - push and pop are two fundamental routine that we ll need for this data struture \n",
    " ----\n",
    " ###### peek \n",
    " - we can do is view the top element of stack so we can ask the data setructure \" what is the top element?\"\n",
    " \n",
    " ----\n",
    " - ============\n",
    " - Now i m goin gto create stack class and the constructor of the class is going to initialize a python list the python list has lot of things that we are after "
   ]
  },
  {
   "cell_type": "code",
   "execution_count": 1,
   "id": "5a4bf85e",
   "metadata": {},
   "outputs": [],
   "source": [
    "\"\"\"\n",
    " Stack Data Structure \n",
    "\"\"\"\n",
    "\n",
    "class Stack():\n",
    "    def __init__(self):\n",
    "        self.items=[]"
   ]
  },
  {
   "cell_type": "markdown",
   "id": "4450e50b",
   "metadata": {},
   "source": [
    "- i m defining a class variable that i calling items and i assiging to an empty list self.items is created when we create stack oject so ow lets create the push method\n"
   ]
  },
  {
   "cell_type": "code",
   "execution_count": 2,
   "id": "5ed5f62b",
   "metadata": {},
   "outputs": [],
   "source": [
    "\"\"\"\n",
    " Stack Data Structure \n",
    "\"\"\"\n",
    "\n",
    "class Stack():\n",
    "    def __init__(self):\n",
    "        self.items=[]\n",
    "    def push(self,item):\n",
    "        self.items.append(item)\n",
    "    "
   ]
  },
  {
   "cell_type": "markdown",
   "id": "b2e8c9e3",
   "metadata": {},
   "source": [
    "##### push \n",
    "- is going to be member of this class and its going to take an item as an argument \n",
    "- in our example item is the book we are putting or pushing the name of the book onto the top of the atack \n",
    "---\n",
    "##### append \n",
    "- is build in method for a python list that adds the item to the end of the list this is just what we want to do for our stack in the push method.\n"
   ]
  },
  {
   "cell_type": "code",
   "execution_count": 3,
   "id": "b31a72b2",
   "metadata": {},
   "outputs": [],
   "source": [
    "\"\"\"\n",
    "Stack Data Structure.\n",
    "\"\"\"\n",
    "class Stack():\n",
    "    def __init__(self):\n",
    "        self.items = []\n",
    "\n",
    "    def push(self, item):\n",
    "        self.items.append(item)\t\t\t\t\n",
    "\n",
    "    def pop(self):\n",
    "        return self.items.pop()"
   ]
  },
  {
   "cell_type": "markdown",
   "id": "a4b8b148",
   "metadata": {},
   "source": [
    "- the other method we need to implement is pop . Since we are basinf this off list ,python makes this very easy as well \n",
    "- there is an implecit pop method that returns last element inserted to the list "
   ]
  },
  {
   "cell_type": "code",
   "execution_count": 4,
   "id": "3e934637",
   "metadata": {},
   "outputs": [
    {
     "name": "stdout",
     "output_type": "stream",
     "text": [
      "['A', 'B']\n",
      "['A', 'B', 'C']\n",
      "['A', 'B']\n"
     ]
    }
   ],
   "source": [
    "\"\"\"\n",
    "Stack Data Structure.\n",
    "\"\"\"\n",
    "class Stack():\n",
    "    def __init__(self):\n",
    "        self.items = []\n",
    "\n",
    "    def push(self, item):\n",
    "        self.items.append(item)\t\t\t\t\n",
    "\n",
    "    def pop(self):\n",
    "        return self.items.pop()\n",
    "\n",
    "    def get_stack(self):\n",
    "        return self.items\n",
    "\n",
    "myStack = Stack()\n",
    "myStack.push(\"A\")\n",
    "myStack.push(\"B\")\n",
    "print(myStack.get_stack())\n",
    "myStack.push(\"C\")\n",
    "print(myStack.get_stack())\n",
    "myStack.pop()\n",
    "print(myStack.get_stack())"
   ]
  },
  {
   "cell_type": "markdown",
   "id": "1e122a2f",
   "metadata": {},
   "source": [
    "- we make a method called get_stack() . thsi will return the items list  which forms the core of the stack then i define a stack mystack on line 17 and push A and B onto the stack\n",
    "- line 18 - 19  sfter these opearations i can print mystack and the output is \n",
    "---\n",
    "- we understand the core funcdamentals of the stack , A few of other methods we can include in this are helpful namely we clould have method called is_empty. it will reaturn whether or ot the stack is empty "
   ]
  },
  {
   "cell_type": "code",
   "execution_count": 5,
   "id": "d19febb5",
   "metadata": {},
   "outputs": [
    {
     "name": "stdout",
     "output_type": "stream",
     "text": [
      "True\n"
     ]
    }
   ],
   "source": [
    "\"\"\"\n",
    "Stack Data Structure.\n",
    "\"\"\"\n",
    "class Stack():\n",
    "    def __init__(self):\n",
    "        self.items = []\n",
    "\n",
    "    def push(self, item):\n",
    "        self.items.append(item)\t\t\t\t\n",
    "\n",
    "    def pop(self):\n",
    "        return self.items.pop()\n",
    "    \n",
    "    def is_empty(self):\n",
    "        return self.items == []\n",
    "        \n",
    "    def get_stack(self):\n",
    "        return self.items\n",
    "\n",
    "myStack = Stack()\n",
    "print(myStack.is_empty()) "
   ]
  },
  {
   "cell_type": "code",
   "execution_count": 14,
   "id": "a8309642",
   "metadata": {},
   "outputs": [
    {
     "name": "stdout",
     "output_type": "stream",
     "text": [
      "['NIl', 'Boss']\n",
      "False\n"
     ]
    }
   ],
   "source": [
    "\"\"\"\n",
    "Stack Data Structure.\n",
    "\"\"\"\n",
    "class Stack():\n",
    "    def __init__(self):\n",
    "        self.items = []\n",
    "\n",
    "    def push(self, item):\n",
    "        self.items.append(item)\n",
    "\n",
    "    def pop(self):\n",
    "        return self.items.pop()\n",
    "    \n",
    "    def is_empty(self):\n",
    "        return self.items == []\n",
    "        \n",
    "    def get_stack(self):\n",
    "        return self.items\n",
    "\n",
    "myStack = Stack()\n",
    "myStack.push(\"NIl\")\n",
    "myStack.push(\"Boss\")\n",
    "print(myStack.get_stack())\n",
    "\n",
    "print(myStack.is_empty()) "
   ]
  },
  {
   "cell_type": "markdown",
   "id": "df5870a0",
   "metadata": {},
   "source": [
    "- we get True ,,,, if we push something and call is_empty(), we should get false "
   ]
  },
  {
   "cell_type": "code",
   "execution_count": 15,
   "id": "f570fb48",
   "metadata": {},
   "outputs": [
    {
     "name": "stdout",
     "output_type": "stream",
     "text": [
      "D\n"
     ]
    }
   ],
   "source": [
    "\"\"\"\n",
    "Stack Data Structure.\n",
    "\"\"\"\n",
    "class Stack():\n",
    "    def __init__(self):\n",
    "        self.items = []\n",
    "\n",
    "    def push(self, item):\n",
    "        self.items.append(item)\t\t\t\t\n",
    "\n",
    "    def pop(self):\n",
    "        return self.items.pop()\n",
    "    \n",
    "    def is_empty(self):\n",
    "        return self.items == []\n",
    "    \n",
    "    def peek(self):\n",
    "        if not self.is_empty():\n",
    "            return self.items[-1]\n",
    "        \n",
    "    def get_stack(self):\n",
    "        return self.items\n",
    "\n",
    "myStack = Stack()\n",
    "myStack.push(\"A\")\n",
    "myStack.push(\"B\")\n",
    "myStack.push(\"C\")\n",
    "myStack.push(\"D\")\n",
    "print(myStack.peek())"
   ]
  },
  {
   "cell_type": "markdown",
   "id": "f081f505",
   "metadata": {},
   "source": [
    "- Now we have the peek opearation on line 17 which tell us the topmost element of the stack \n",
    "---\n",
    "-  if peek is called on the stack in the above code it should return D.peek checks if the stack is ot empty in line 18 and if it isnt it return the last element of the list which in this the top lement of the stack we return slef.items[-1]"
   ]
  },
  {
   "cell_type": "code",
   "execution_count": null,
   "id": "5ce18945",
   "metadata": {},
   "outputs": [],
   "source": []
  },
  {
   "cell_type": "code",
   "execution_count": null,
   "id": "41ea8875",
   "metadata": {},
   "outputs": [],
   "source": []
  }
 ],
 "metadata": {
  "kernelspec": {
   "display_name": "Python 3 (ipykernel)",
   "language": "python",
   "name": "python3"
  },
  "language_info": {
   "codemirror_mode": {
    "name": "ipython",
    "version": 3
   },
   "file_extension": ".py",
   "mimetype": "text/x-python",
   "name": "python",
   "nbconvert_exporter": "python",
   "pygments_lexer": "ipython3",
   "version": "3.9.7"
  }
 },
 "nbformat": 4,
 "nbformat_minor": 5
}
