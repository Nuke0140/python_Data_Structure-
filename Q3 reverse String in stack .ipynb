{
 "cells": [
  {
   "cell_type": "code",
   "execution_count": 8,
   "id": "2f37883c",
   "metadata": {},
   "outputs": [],
   "source": [
    "class Stack():\n",
    "    def __init__(self):\n",
    "        self.items = []\n",
    "\n",
    "    def push(self, item):\n",
    "        self.items.append(item)\n",
    "\n",
    "    def pop(self):\n",
    "        return self.items.pop()\n",
    "    \n",
    "    def is_empty(self):\n",
    "        return self.items == []\n",
    "    \n",
    "    def peek(self):\n",
    "        if not self.is_empty():\n",
    "            return self.items[-1]\n",
    "        \n",
    "    def get_stack(self):\n",
    "        return self.items"
   ]
  },
  {
   "cell_type": "code",
   "execution_count": 9,
   "id": "32928afd",
   "metadata": {},
   "outputs": [
    {
     "name": "stdout",
     "output_type": "stream",
     "text": [
      "!ereht m i olleh\n"
     ]
    }
   ],
   "source": [
    "\n",
    "\n",
    "def reverse_string(stack,input_str):\n",
    "    for i in range(len(input_str)):\n",
    "        stack.push(input_str[i])\n",
    "    rev_str=\"\"\n",
    "    while not stack.is_empty():\n",
    "        rev_str += stack.pop()\n",
    "        \n",
    "    return rev_str\n",
    "\n",
    "stack=Stack()\n",
    "\n",
    "input_str=\"hello i m there!\"\n",
    "print(reverse_string(stack,input_str))"
   ]
  },
  {
   "cell_type": "code",
   "execution_count": null,
   "id": "2a05672c",
   "metadata": {},
   "outputs": [],
   "source": []
  }
 ],
 "metadata": {
  "kernelspec": {
   "display_name": "Python 3 (ipykernel)",
   "language": "python",
   "name": "python3"
  },
  "language_info": {
   "codemirror_mode": {
    "name": "ipython",
    "version": 3
   },
   "file_extension": ".py",
   "mimetype": "text/x-python",
   "name": "python",
   "nbconvert_exporter": "python",
   "pygments_lexer": "ipython3",
   "version": "3.9.7"
  }
 },
 "nbformat": 4,
 "nbformat_minor": 5
}
