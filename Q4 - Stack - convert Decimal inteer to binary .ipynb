{
 "cells": [
  {
   "cell_type": "code",
   "execution_count": 3,
   "id": "ecdbf30d",
   "metadata": {},
   "outputs": [],
   "source": [
    "class Stack():\n",
    "    def __init__(self):\n",
    "        self.items = []\n",
    "\n",
    "    def push(self, item):\n",
    "        self.items.append(item)\n",
    "\n",
    "    def pop(self):\n",
    "        return self.items.pop()\n",
    "    \n",
    "    def is_empty(self):\n",
    "        return self.items == []\n",
    "    \n",
    "    def peek(self):\n",
    "        if not self.is_empty():\n",
    "            return self.items[-1]\n",
    "        \n",
    "    def get_stack(self):\n",
    "        return self.items"
   ]
  },
  {
   "cell_type": "code",
   "execution_count": 5,
   "id": "782af26f",
   "metadata": {},
   "outputs": [
    {
     "name": "stdout",
     "output_type": "stream",
     "text": [
      "111000\n",
      "10\n",
      "100000\n",
      "1010\n",
      "True\n"
     ]
    }
   ],
   "source": [
    "def covnert_int_to_bin(dec_num):\n",
    "    \n",
    "    \n",
    "    if dec_num == 0:\n",
    "        return 0\n",
    "    \n",
    "    s = Stack()\n",
    "    \n",
    "    while dec_num >0:\n",
    "        remainder = dec_num % 2\n",
    "        s.push(remainder)\n",
    "        dec_num=dec_num // 2\n",
    "    \n",
    "    bin_num = \"\"\n",
    "    while not s.is_empty():\n",
    "        bin_num += str(s.pop())\n",
    "        \n",
    "    return bin_num\n",
    "\n",
    "\n",
    "print(convert_int_to_bin(56))\n",
    "print(convert_int_to_bin(2))\n",
    "print(convert_int_to_bin(32))\n",
    "print(convert_int_to_bin(10))\n",
    "\n",
    "print(int(convert_int_to_bin(56),2)==56)       \n",
    "        \n",
    "        \n",
    "        "
   ]
  },
  {
   "cell_type": "markdown",
   "id": "c98ef5e3",
   "metadata": {},
   "source": [
    "### explaination \n",
    "-----\n",
    "-  we carter to an edge case of dec_num being equal to 0 if dec_num is equal to 0 we return 0 on line 4 as the binary equivalenet for the decimal number 0 is 0 \n",
    "\n",
    "- we decalre stack and preocessed to a while loop on line which executes if dec_num is greater than 0 \n",
    "\n",
    "- as stated in the division by 2 method we calculate the remainder of the division of dec_num by 2 and push it onto the stack (lines 9-10) then we divided dec_num by e 2 using the // operator to dec_num which floors and the answer of the division  and we updated dec_num with the answer keep executing the code on as long as dec_num is greater than 0 as soon as dec_num become equal to or less than 0 the while loop terminates\n",
    "\n",
    "\n",
    "----\n",
    "- bin_num is declared as an empty string \n",
    "- the while loop on the very next line executed if the stack s is not empty . if s is not empty we pop a value from s and append it to be the bin_num string \n",
    "- we keeep popping elements from s unitl it becomes empty and the while loop is terminated \n",
    "- the bin_num is return from the function\n",
    "\n"
   ]
  }
 ],
 "metadata": {
  "kernelspec": {
   "display_name": "Python 3 (ipykernel)",
   "language": "python",
   "name": "python3"
  },
  "language_info": {
   "codemirror_mode": {
    "name": "ipython",
    "version": 3
   },
   "file_extension": ".py",
   "mimetype": "text/x-python",
   "name": "python",
   "nbconvert_exporter": "python",
   "pygments_lexer": "ipython3",
   "version": "3.9.7"
  }
 },
 "nbformat": 4,
 "nbformat_minor": 5
}
