{
 "cells": [
  {
   "cell_type": "code",
   "execution_count": 2,
   "id": "90085b57",
   "metadata": {},
   "outputs": [
    {
     "name": "stdout",
     "output_type": "stream",
     "text": [
      "['Nil', 'Nuke', 'Nilesh']\n",
      "False\n"
     ]
    }
   ],
   "source": [
    "\"\"\"\n",
    "stack Data structure \n",
    "\n",
    "\"\"\"\n",
    "\n",
    "class Stack():\n",
    "    def __init__(self):\n",
    "        self.items=[]\n",
    "        \n",
    "    \n",
    "    def push(self,item):\n",
    "        self.items.append(item)\n",
    "    \n",
    "    def pop(self):\n",
    "        return self.items.pop()\n",
    "    \n",
    "    def is_empty(self):\n",
    "        return self.items==[]\n",
    "    \n",
    "    def get_stack(self):\n",
    "        return self.items\n",
    "\n",
    "myStack = Stack()\n",
    "myStack.push(\"Nil\")\n",
    "myStack.push(\"Nuke\")\n",
    "myStack.push(\"Nilesh\")\n",
    "print(myStack.get_stack())\n",
    "\n",
    "#### cheacking stack is empty or not \n",
    "print(myStack.is_empty())"
   ]
  },
  {
   "cell_type": "code",
   "execution_count": null,
   "id": "c50eebcb",
   "metadata": {},
   "outputs": [],
   "source": []
  }
 ],
 "metadata": {
  "kernelspec": {
   "display_name": "Python 3 (ipykernel)",
   "language": "python",
   "name": "python3"
  },
  "language_info": {
   "codemirror_mode": {
    "name": "ipython",
    "version": 3
   },
   "file_extension": ".py",
   "mimetype": "text/x-python",
   "name": "python",
   "nbconvert_exporter": "python",
   "pygments_lexer": "ipython3",
   "version": "3.9.7"
  }
 },
 "nbformat": 4,
 "nbformat_minor": 5
}
