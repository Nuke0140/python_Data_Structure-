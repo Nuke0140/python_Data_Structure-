{
 "cells": [
  {
   "cell_type": "markdown",
   "id": "068e1ee6",
   "metadata": {},
   "source": [
    "# Array"
   ]
  },
  {
   "cell_type": "code",
   "execution_count": 1,
   "id": "038ec6df",
   "metadata": {},
   "outputs": [],
   "source": [
    "stock_prices=[298,305,320,301,292]\n"
   ]
  },
  {
   "cell_type": "code",
   "execution_count": 6,
   "id": "da5cbe51",
   "metadata": {},
   "outputs": [],
   "source": [
    "day1=stock_prices[0]\n",
    "day2=stock_prices[1]\n",
    "day3=stock_prices[2]\n",
    "day4=stock_prices[3]"
   ]
  },
  {
   "cell_type": "code",
   "execution_count": 4,
   "id": "4eed2ad9",
   "metadata": {},
   "outputs": [
    {
     "data": {
      "text/plain": [
       "298"
      ]
     },
     "execution_count": 4,
     "metadata": {},
     "output_type": "execute_result"
    }
   ],
   "source": [
    "day1"
   ]
  },
  {
   "cell_type": "code",
   "execution_count": 5,
   "id": "24fde44c",
   "metadata": {},
   "outputs": [
    {
     "data": {
      "text/plain": [
       "305"
      ]
     },
     "execution_count": 5,
     "metadata": {},
     "output_type": "execute_result"
    }
   ],
   "source": [
    "day2"
   ]
  },
  {
   "cell_type": "code",
   "execution_count": 7,
   "id": "656eb783",
   "metadata": {},
   "outputs": [],
   "source": [
    "# int no store in 4 byte \n",
    "#it is contest time so its bigo = (o)1\n"
   ]
  },
  {
   "cell_type": "code",
   "execution_count": 22,
   "id": "e2095f78",
   "metadata": {},
   "outputs": [],
   "source": [
    "# on what day price was 301 \n",
    "\n"
   ]
  },
  {
   "cell_type": "code",
   "execution_count": null,
   "id": "ed69d3ae",
   "metadata": {},
   "outputs": [],
   "source": [
    "\n",
    "\n"
   ]
  },
  {
   "cell_type": "code",
   "execution_count": null,
   "id": "0bd09dbc",
   "metadata": {},
   "outputs": [],
   "source": []
  },
  {
   "cell_type": "code",
   "execution_count": null,
   "id": "4b1e248c",
   "metadata": {},
   "outputs": [],
   "source": []
  },
  {
   "cell_type": "code",
   "execution_count": null,
   "id": "4b213c7f",
   "metadata": {},
   "outputs": [],
   "source": []
  },
  {
   "cell_type": "code",
   "execution_count": null,
   "id": "77c1b46d",
   "metadata": {},
   "outputs": [],
   "source": []
  },
  {
   "cell_type": "code",
   "execution_count": null,
   "id": "4ab7e870",
   "metadata": {},
   "outputs": [],
   "source": []
  },
  {
   "cell_type": "code",
   "execution_count": null,
   "id": "c43ae617",
   "metadata": {},
   "outputs": [],
   "source": []
  },
  {
   "cell_type": "code",
   "execution_count": null,
   "id": "6543236c",
   "metadata": {},
   "outputs": [],
   "source": []
  },
  {
   "cell_type": "markdown",
   "id": "e6459c18",
   "metadata": {},
   "source": [
    "# linked List \n"
   ]
  },
  {
   "cell_type": "code",
   "execution_count": 24,
   "id": "2fdc9a4a",
   "metadata": {},
   "outputs": [],
   "source": [
    "# You dont need to preallocate memory \n",
    "# insertion is easy \n",
    "# llist \n",
    " \n",
    "class Node:\n",
    "    def __init__(self,data,next):\n",
    "        self.data=data\n",
    "        self.next=next\n",
    "        \n",
    "class LinkedList:\n",
    "    def __init__(self):\n",
    "        self.head=None\n",
    "    \n",
    "    def insert_at_begiging(self,data):\n",
    "        node = Node(data,self.head)\n",
    "        self.head=node\n",
    "    \n",
    "    def print(self):\n",
    "        itr=self.head\n",
    "        llster=''\n",
    "        while itr:\n",
    "            llster +=(itr.data) + '-->'\n",
    "            itr=itr.next\n",
    "        print(llstr)\n",
    "    \n",
    "     \n"
   ]
  },
  {
   "cell_type": "code",
   "execution_count": 27,
   "id": "191a1963",
   "metadata": {},
   "outputs": [
    {
     "ename": "SyntaxError",
     "evalue": "cannot assign to function call (1601038392.py, line 25)",
     "output_type": "error",
     "traceback": [
      "\u001b[0;36m  File \u001b[0;32m\"/tmp/ipykernel_30852/1601038392.py\"\u001b[0;36m, line \u001b[0;32m25\u001b[0m\n\u001b[0;31m    llist.head()=Node(1)\u001b[0m\n\u001b[0m    ^\u001b[0m\n\u001b[0;31mSyntaxError\u001b[0m\u001b[0;31m:\u001b[0m cannot assign to function call\n"
     ]
    }
   ],
   "source": [
    "# A simple python program to introduce a linked list \n",
    "\n",
    "# class Node \n",
    "\n",
    "class Node:\n",
    "    \n",
    "    # function to initialise the node object \n",
    "    def __init__(self,data):\n",
    "        self.data=data #Assign data \n",
    "        self.next=None # Initalize next as null \n",
    "\n",
    "# Linked List class contains a Node object \n",
    "class LinkedList:\n",
    "    \n",
    "    # function to initailize head \n",
    "    def __init__(self):\n",
    "        self.head=None\n",
    "    \n",
    "    # code execution start here \n",
    "    if __name__ == '__main__':\n",
    "        \n",
    "        #start with the empty list \n",
    "        llist =linkedList()\n",
    "        \n",
    "        llist.head()=Node(1)\n",
    "        second=Node(2)\n",
    "        third=Node(3)\n",
    "        \n",
    "        ''' \n",
    "        three node have been created we have refereces to these blocs as head \n",
    "        second and third \n",
    "        '''\n",
    "        llist.head.next=second; #link first node with second \n",
    "        \n",
    "        second.next=third; # link second node with the third node \n",
    "        \n",
    "        \n",
    "        "
   ]
  },
  {
   "cell_type": "code",
   "execution_count": 32,
   "id": "d77233f7",
   "metadata": {},
   "outputs": [
    {
     "name": "stdout",
     "output_type": "stream",
     "text": [
      "1\n",
      "2\n",
      "3\n"
     ]
    }
   ],
   "source": [
    "# create  linked list here \n",
    "# A simple pyhton program for travesa of a linked list \n",
    "\n",
    "# Node class \n",
    "\n",
    "class Node :\n",
    "    \n",
    "    #Function to initialise the node object \n",
    "    def __init__(self,data):\n",
    "        self.data= data # assign data \n",
    "        self.next= None # INittialize next as null \n",
    "    \n",
    "#Liked List class contains a Node object \n",
    "class LinkedList:\n",
    "    \n",
    "    #function to initialize head\n",
    "    def __init__(self):\n",
    "        self.head=None\n",
    "    \n",
    "    # this function prints contets of linked list \n",
    "    #stsrting from head \n",
    "    def printList(self):\n",
    "        temp=self.head\n",
    "        while (temp):\n",
    "            print(temp.data)\n",
    "            temp=temp.next\n",
    "\n",
    "#Code execution starts here \n",
    "if __name__=='__main__':\n",
    "    \n",
    "    #Start with the empty list \n",
    "    llist=LinkedList()\n",
    "    \n",
    "    llist.head=Node(1)\n",
    "    second =Node(2)\n",
    "    third=Node(3)\n",
    "    \n",
    "    llist.head.next=second; # Link first node with second \n",
    "    second.next= third; # link second node with the third node \n",
    "    \n",
    "    llist.printList()"
   ]
  },
  {
   "cell_type": "code",
   "execution_count": 37,
   "id": "44f07e27",
   "metadata": {},
   "outputs": [
    {
     "ename": "IndentationError",
     "evalue": "expected an indented block (1190830387.py, line 23)",
     "output_type": "error",
     "traceback": [
      "\u001b[0;36m  File \u001b[0;32m\"/tmp/ipykernel_30852/1190830387.py\"\u001b[0;36m, line \u001b[0;32m23\u001b[0m\n\u001b[0;31m    def push (self,new_data):\u001b[0m\n\u001b[0m                             ^\u001b[0m\n\u001b[0;31mIndentationError\u001b[0m\u001b[0;31m:\u001b[0m expected an indented block\n"
     ]
    }
   ],
   "source": [
    "# A Complete working python program to demonstrate all \n",
    "# insertation methonds of linked list \n",
    "\n",
    "\n",
    "# Node class \n",
    "class Node:\n",
    "    \n",
    "    #Function to initialies the node object \n",
    "    def __init__(self,data):\n",
    "        self.data= data # assign data \n",
    "        self.data = None # Initialize nect as null \n",
    "        \n",
    "# Linked List class contains a Nonde object \n",
    "\n",
    "class LinkedList:\n",
    "    \n",
    "    #Function  to initialize head \n",
    "    def __init__(self):\n",
    "        \n",
    "        self.head=None\n",
    "    \n",
    "    #function to insert a new node at the beginning \n",
    "    def push (self,new_data):\n",
    "        "
   ]
  },
  {
   "cell_type": "code",
   "execution_count": null,
   "id": "26a2c4b9",
   "metadata": {},
   "outputs": [],
   "source": []
  }
 ],
 "metadata": {
  "kernelspec": {
   "display_name": "Python 3",
   "language": "python",
   "name": "python3"
  },
  "language_info": {
   "codemirror_mode": {
    "name": "ipython",
    "version": 3
   },
   "file_extension": ".py",
   "mimetype": "text/x-python",
   "name": "python",
   "nbconvert_exporter": "python",
   "pygments_lexer": "ipython3",
   "version": "3.9.7"
  }
 },
 "nbformat": 4,
 "nbformat_minor": 5
}
